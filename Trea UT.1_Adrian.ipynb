{
  "nbformat": 4,
  "nbformat_minor": 0,
  "metadata": {
    "colab": {
      "provenance": []
    },
    "kernelspec": {
      "name": "python3",
      "display_name": "Python 3"
    },
    "language_info": {
      "name": "python"
    }
  },
  "cells": [
    {
      "cell_type": "markdown",
      "source": [
        "#Adrian Cruz Gonzalez"
      ],
      "metadata": {
        "id": "SrRuBsu-0AF6"
      }
    },
    {
      "cell_type": "markdown",
      "source": [
        "b. (1,0 puntos) En una nueva celda de código, crea una lista de nombre tenistas con los siguientes elementos: Novak Djokovic, Rafael Nadal, Roger Federer, Pete Sampras, Roy Emerson. Crea otra lista de nombre grand_slams con los siguientes elementos: 24, 22, 20, 14, 12. Imprime por pantalla las dos listas."
      ],
      "metadata": {
        "id": "1o6V2iRhzAbS"
      }
    },
    {
      "cell_type": "code",
      "execution_count": 1,
      "metadata": {
        "colab": {
          "base_uri": "https://localhost:8080/"
        },
        "id": "cpufB7_9y6LB",
        "outputId": "39d9eeb4-f835-42b7-dc1e-ff8351069bf3"
      },
      "outputs": [
        {
          "output_type": "stream",
          "name": "stdout",
          "text": [
            "['Novak Djokovic', 'Rafael Nadal', 'Roger Federer']\n",
            "[24, 22, 20]\n"
          ]
        }
      ],
      "source": [
        "tenistas = [\"Novak Djokovic\", \"Rafael Nadal\", \"Roger Federer\", ]\n",
        "grand_slams = [24, 22, 20]\n",
        "print(tenistas)\n",
        "print(grand_slams)"
      ]
    },
    {
      "cell_type": "markdown",
      "source": [
        "c. (1,0 puntos) En una nueva celda de código, crea un diccionario de nombre dic donde la clave de cada elemento sea el nombre de un tenista y su valor el número de Grand Slams ganados. Imprime por pantalla el diccionario"
      ],
      "metadata": {
        "id": "H0cB5pvUzEAB"
      }
    },
    {
      "cell_type": "code",
      "source": [
        "diccionario = {\"Novak Djokovic\": 24, \"Rafael Nadal\": 22, \"Roger Federer\": 20}\n",
        "print(diccionario)"
      ],
      "metadata": {
        "colab": {
          "base_uri": "https://localhost:8080/"
        },
        "id": "kiZDqJAnzH8p",
        "outputId": "a3864ad6-cdd3-47f8-e354-b52bd546fc84"
      },
      "execution_count": 11,
      "outputs": [
        {
          "output_type": "stream",
          "name": "stdout",
          "text": [
            "{'Novak Djokovic': 24, 'Rafael Nadal': 22, 'Roger Federer': 20}\n"
          ]
        }
      ]
    },
    {
      "cell_type": "markdown",
      "source": [
        "d. (2,0 puntos) Crea una función de nombre get_tenistas que reciba como parámetro el diccionario dic y muestre los datos del diccionario en la forma Nombre del jugador: X Grand Slams ganados. El resultado debería ser como sigue: Novak Djokovic: 24 Grand Slams ganados. Rafael Nadal: 22 Grand Slams ganados."
      ],
      "metadata": {
        "id": "eac2w2T7zKay"
      }
    },
    {
      "cell_type": "code",
      "source": [
        "dic = {\"Novak Djokovic\": 24, \"Rafael Nadal\": 22, \"Roger Federer\": 20}\n",
        "def get_tenistas(dic):\n",
        "    for key, value in dic.items():\n",
        "        print(f\"{key}: {value} Grand Slams ganados.\")\n",
        "get_tenistas(dic)"
      ],
      "metadata": {
        "colab": {
          "base_uri": "https://localhost:8080/"
        },
        "id": "qo5nufFizMWy",
        "outputId": "5526358d-cf5a-48db-87f7-b2265a4e68b4"
      },
      "execution_count": 6,
      "outputs": [
        {
          "output_type": "stream",
          "name": "stdout",
          "text": [
            "Novak Djokovic: 24 Grand Slams ganados.\n",
            "Rafael Nadal: 22 Grand Slams ganados.\n",
            "Roger Federer: 20 Grand Slams ganados.\n"
          ]
        }
      ]
    },
    {
      "cell_type": "markdown",
      "source": [
        "e. (2,0 puntos) Define la clase Pais con un \"constructor\" que inicialice los atributos nombre, capital e idioma, que serán los datos a considerar en la clase. Dentro de ella, crea los métodos\n",
        "get_nombre, get_capital y get_idioma, que devolverán el nombre del país, su capital y el idioma\n",
        "hablado, respectivamente. A continuación, crea una instancia u objeto de la clase Pais,\n",
        "asignándole los datos que desees, y haz uso de los métodos implementados para mostrar un\n",
        "mensaje con la información almacenada."
      ],
      "metadata": {
        "id": "Z63v8W3SzUeL"
      }
    },
    {
      "cell_type": "code",
      "source": [
        "class Pais:\n",
        "    def __init__(self, nombre, capital, idioma):\n",
        "        self.nombre = nombre\n",
        "        self.capital = capital\n",
        "        self.idioma = idioma\n",
        "\n",
        "    def get_nombre(self):\n",
        "        return self.nombre\n",
        "\n",
        "    def get_capital(self):\n",
        "        return self.capital\n",
        "\n",
        "    def get_idioma(self):\n",
        "        return self.idioma\n",
        "\n",
        "    def mostrar_informacion(self):\n",
        "        print(f\"{self.nombre} {self.capital} {self.idioma}\")\n",
        "\n",
        "\n",
        "nombre = \"España \"\n",
        "capital = \"Madrid\"\n",
        "idioma = \"Español\"\n",
        "\n",
        "pais = Pais(nombre, capital, idioma)\n",
        "pais.mostrar_informacion()"
      ],
      "metadata": {
        "colab": {
          "base_uri": "https://localhost:8080/"
        },
        "id": "8c-QwYI3zN7J",
        "outputId": "e78ce2ca-8d1c-41fe-c8ac-8ed3cce6ee5e"
      },
      "execution_count": 9,
      "outputs": [
        {
          "output_type": "stream",
          "name": "stdout",
          "text": [
            "España  Madrid Español\n"
          ]
        }
      ]
    },
    {
      "cell_type": "markdown",
      "source": [
        "f. (0,5 puntos) Haz que todas las celdas de código tengan por encima una celda de texto que\n",
        "muestre el enuncidado de cada apartado."
      ],
      "metadata": {
        "id": "BAYh3g9-zv0p"
      }
    }
  ]
}
